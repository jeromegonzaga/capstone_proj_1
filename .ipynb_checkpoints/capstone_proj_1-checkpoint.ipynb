{
 "cells": [
  {
   "cell_type": "markdown",
   "metadata": {},
   "source": [
    "<div class=\"alert alert-block alert-danger\">\n",
    "\n",
    "# Things to do:\n",
    "\n",
    "</div>\n",
    "\n",
    "- 'tips.json'\n",
    "  - rate the 'text' column based on how positive or negative the text is \n",
    "  - get keywords from the 'text' column\n",
    "  - link to 'business.json' file based on 'business_id' column\n",
    "- 'business.json'\n",
    "  - 'categories' column needs to be cleaned up\n",
    "\n"
   ]
  },
  {
   "cell_type": "code",
   "execution_count": null,
   "metadata": {},
   "outputs": [],
   "source": [
    "import numpy as np\n",
    "import pandas as pd\n",
    "import seaborn as sns\n",
    "import matplotlib.pyplot as plt\n",
    "import json"
   ]
  },
  {
   "cell_type": "code",
   "execution_count": null,
   "metadata": {
    "scrolled": true
   },
   "outputs": [],
   "source": [
    "# method to change json file into csv file\n",
    "# inputs:\n",
    "#     (1) json_file = name of file, ex. business.json\n",
    "#     (2) output_name = string for output of name\n",
    "#     (3) chunk = amount of lines from the json file to read at a time\n",
    "\n",
    "def json2csv(json_file,partition_size):\n",
    "\n",
    "    json_filepath = '/Users/jeromegonzaga/Documents/Bootcamp/Capstone Project #1/yelp_dataset/' + json_file\n",
    "    jsonObj = pd.read_json(json_filepath, lines = True, chunksize = partition_size, typ = 'frame')\n",
    "\n",
    "    df = pd.DataFrame()\n",
    "\n",
    "    for chunk in jsonObj:\n",
    "        df = df.append(chunk)\n",
    "\n",
    "    df.to_csv(json_file[0:len(json_file)-5] + '.csv')\n",
    "    del df"
   ]
  },
  {
   "cell_type": "code",
   "execution_count": null,
   "metadata": {},
   "outputs": [],
   "source": [
    "%%time\n",
    "\n",
    "# Convert business.json to csv file (File size = 138.3 MB)\n",
    "json2csv('business.json', 900000)"
   ]
  },
  {
   "cell_type": "code",
   "execution_count": null,
   "metadata": {},
   "outputs": [],
   "source": [
    "%%time\n",
    "\n",
    "# Convert checkin.json to csv file (File size = 408.8 MB)\n",
    "json2csv('checkin.json', 900000)"
   ]
  },
  {
   "cell_type": "code",
   "execution_count": null,
   "metadata": {},
   "outputs": [],
   "source": [
    "%%time\n",
    "\n",
    "# Convert photo.json to csv file (File size = 25.7 MB)\n",
    "json2csv('photo.json', 900000)"
   ]
  },
  {
   "cell_type": "code",
   "execution_count": null,
   "metadata": {},
   "outputs": [],
   "source": [
    "%%time\n",
    "\n",
    "# Convert review.json to csv file (File size = 5.35 GB)\n",
    "json2csv('review.json', 900000)"
   ]
  },
  {
   "cell_type": "code",
   "execution_count": null,
   "metadata": {},
   "outputs": [],
   "source": [
    "%%time\n",
    "\n",
    "# Convert tip.json to csv file (File size = 244.5 MB)\n",
    "json2csv('tip.json', 900000)"
   ]
  },
  {
   "cell_type": "code",
   "execution_count": null,
   "metadata": {},
   "outputs": [],
   "source": [
    "%%time\n",
    "\n",
    "# Convert user.json to csv file (File size = 2.49 GB)\n",
    "json2csv('user.json', 900000)"
   ]
  },
  {
   "cell_type": "code",
   "execution_count": null,
   "metadata": {},
   "outputs": [],
   "source": [
    "business.drop(columns=['latitude', 'longitude',  'postal_code', 'is_open', 'hours'])\\\n",
    "        .sort_values(by=['stars', 'review_count'], ascending=[True, False, False])\\\n",
    "        .groupby('categories').count().head(50).to_csv('categories.csv')\n",
    "#[business['state']=='CA']\n",
    "\n",
    "# tip.drop(columns=['date'])\\\n",
    "#    .head(50).to_csv('tip.csv')"
   ]
  },
  {
   "cell_type": "code",
   "execution_count": null,
   "metadata": {},
   "outputs": [],
   "source": [
    "# import pandas as pd\n",
    "# df = pd.read_csv('my_data.csv')\n",
    "# df.head()\n",
    "# df.info()\n",
    "# df.columns\n",
    "# df.describe()\n",
    "# df.column.value_counts()\n",
    "# df.column.plot('hist')\n",
    "# def cleaning_function(row_data):\n",
    "#     # data cleaning steps\n",
    "#     return ...\n",
    "# df.apply(cleaning_function, axis=1)\n",
    "# assert (df.column_data > 0).all()\n",
    "#\n",
    "#\n",
    "# from sys import getsizeof as gs\n",
    "# mb_convert = 0.00000095367432\n",
    "# print(gs(df_business)*mb_convert)"
   ]
  }
 ],
 "metadata": {
  "kernelspec": {
   "display_name": "Python 3",
   "language": "python",
   "name": "python3"
  },
  "language_info": {
   "codemirror_mode": {
    "name": "ipython",
    "version": 3
   },
   "file_extension": ".py",
   "mimetype": "text/x-python",
   "name": "python",
   "nbconvert_exporter": "python",
   "pygments_lexer": "ipython3",
   "version": "3.7.4"
  }
 },
 "nbformat": 4,
 "nbformat_minor": 2
}
